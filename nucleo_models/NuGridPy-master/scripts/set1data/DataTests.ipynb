{
 "cells": [
  {
   "cell_type": "markdown",
   "metadata": {},
   "source": [
    "## Tests of the Set1ext data 1"
   ]
  },
  {
   "cell_type": "code",
   "execution_count": null,
   "metadata": {
    "collapsed": true
   },
   "outputs": [],
   "source": [
    "#location of data\n",
    "#path='/apod2/NuGrid'\n",
    "path='/tmp/orcinusB/NuGrid/'\n",
    "import time as t_module"
   ]
  },
  {
   "cell_type": "markdown",
   "metadata": {},
   "source": [
    "## Test MESA data"
   ]
  },
  {
   "cell_type": "code",
   "execution_count": null,
   "metadata": {
    "collapsed": false
   },
   "outputs": [],
   "source": [
    "from NuGridPy import mesa as ms    \n",
    "ms.__file__"
   ]
  },
  {
   "cell_type": "code",
   "execution_count": null,
   "metadata": {
    "collapsed": true
   },
   "outputs": [],
   "source": [
    "ms.set_nugrid_path(path)"
   ]
  },
  {
   "cell_type": "code",
   "execution_count": null,
   "metadata": {
    "collapsed": true
   },
   "outputs": [],
   "source": [
    "metallicities = [0.02,0.01,0.006,0.001,0.0001]\n",
    "masses = [1.,1.65,2.,3.,4.,5.,6.,7.,12.,15.,20.,25.]"
   ]
  },
  {
   "cell_type": "markdown",
   "metadata": {},
   "source": [
    "## Test MPPNP data based on MESA tracks"
   ]
  },
  {
   "cell_type": "code",
   "execution_count": null,
   "metadata": {
    "collapsed": true
   },
   "outputs": [],
   "source": [
    "t1 = t_module.time()\n",
    "error_cases_def=[]\n",
    "error_cases_last=[]\n",
    "\n",
    "for k in range(len(metallicities)):\n",
    "    print 'start testing metallicity ',metallicities[k]\n",
    "    for h in range(len(masses)):\n",
    "        print '### Test star Z=',metallicities[k],' M=',masses[h]\n",
    "        s=ms.history_data(mass=masses[h],Z=metallicities[k])\n",
    "        #get last model available in profiles file\n",
    "        f1=open(s.sldir+'/profiles.index')\n",
    "        line=f1.readlines()[-1]\n",
    "        f1.close()\n",
    "        lastmodel= int(line.split()[0])\n",
    "        print 'try default profile model ',lastmodel\n",
    "        try:\n",
    "            ms.mesa_profile(mass=masses[h],Z=metallicities[k])\n",
    "        except:\n",
    "            error_cases_def.append([metallicities[k],masses[h]])\n",
    "            pass\n",
    "        try:\n",
    "            ms.mesa_profile(mass=masses[h],Z=metallicities[k],num=lastmodel)\n",
    "        except:\n",
    "            print \"Error in model: \"+str(lastmodel)\n",
    "            error_cases_last.append([metallicities[k],masses[h]])\n",
    "            pass\n",
    "t2= t_module.time()\n",
    "print 'Total time: ',str(round(t2-t1,2)),'s'"
   ]
  },
  {
   "cell_type": "code",
   "execution_count": null,
   "metadata": {
    "collapsed": false
   },
   "outputs": [],
   "source": [
    "# if these arrays are empty than no errors in profile data:\n",
    "error_cases_last"
   ]
  },
  {
   "cell_type": "code",
   "execution_count": null,
   "metadata": {
    "collapsed": true
   },
   "outputs": [],
   "source": [
    "error_cases_def"
   ]
  },
  {
   "cell_type": "markdown",
   "metadata": {},
   "source": [
    "## Test MPPNP data based on MESA tracks"
   ]
  },
  {
   "cell_type": "code",
   "execution_count": null,
   "metadata": {
    "collapsed": false
   },
   "outputs": [],
   "source": [
    "from NuGridPy import nugridse as mp\n",
    "#reload(mp)"
   ]
  },
  {
   "cell_type": "code",
   "execution_count": null,
   "metadata": {
    "collapsed": false
   },
   "outputs": [],
   "source": [
    "mp.set_nugrid_path(path)"
   ]
  },
  {
   "cell_type": "code",
   "execution_count": null,
   "metadata": {
    "collapsed": false,
    "scrolled": true
   },
   "outputs": [],
   "source": [
    "t1 = t_module.time()\n",
    "for k in range(len(metallicities)):\n",
    "    print 'start testing metallicity ',metallicities[k]\n",
    "    for h in range(len(masses)):\n",
    "        print '### Test star Z=',metallicities[k],' M=',masses[h]\n",
    "        print 'test ppd_wind OUT'\n",
    "        sefiles=mp.se(mass=masses[h],Z=metallicities[k],code_source='MES',type='ppd_wind',output='out',verbose=True)\n",
    "        print 'test ppd_wind SURF'\n",
    "        sefiles=mp.se(mass=masses[h],Z=metallicities[k],code_source='MES',type='ppd_wind',output='surf',verbose=True)\n",
    "        print 'test ppd_wind RESTART'\n",
    "        sefiles=mp.se(mass=masses[h],Z=metallicities[k],code_source='MES',type='ppd_wind',output='restart',verbose=True) \n",
    "        if masses[h]>8.: #massive stars only\n",
    "           print 'test ppd_exp delay OUT' \n",
    "           sefiles=mp.se(mass=masses[h],Z=metallicities[k],code_source='MES',type='ppd_exp',output='out',exp_type='delay',verbose=True)\n",
    "           print 'test ppd_exp delay SURF'\n",
    "           sefiles=mp.se(mass=masses[h],Z=metallicities[k],code_source='MES',type='ppd_exp',output='surf',exp_type='delay',verbose=True)\n",
    "           print 'test ppd_exp delay RESTART'\n",
    "           sefiles=mp.se(mass=masses[h],Z=metallicities[k],code_source='MES',type='ppd_exp',output='restart',exp_type='delay',verbose=True)\n",
    "           if not (metallicities[k] == 0.02 and masses[h] == 25.): #25Msun rapid Z=0.02 BH                \n",
    "             print 'test ppd_exp rapid OUT' \n",
    "             sefiles=mp.se(mass=masses[h],Z=metallicities[k],code_source='MES',type='ppd_exp',output='out',exp_type='rapid',verbose=True)\n",
    "             print 'test ppd_exp rapid SURF'\n",
    "             sefiles=mp.se(mass=masses[h],Z=metallicities[k],code_source='MES',type='ppd_exp',output='surf',exp_type='rapid',verbose=True)\n",
    "             print 'test ppd_exp rapid RESTART'\n",
    "             sefiles=mp.se(mass=masses[h],Z=metallicities[k],code_source='MES',type='ppd_exp',output='restart',exp_type='rapid',verbose=True)                   \n",
    "            \n",
    "t2= t_module.time()\n",
    "print 'Total time: ',str(round(t2-t1,2)),'s'"
   ]
  }
 ],
 "metadata": {
  "anaconda-cloud": {},
  "kernelspec": {
   "display_name": "Python [default]",
   "language": "python",
   "name": "python2"
  },
  "language_info": {
   "codemirror_mode": {
    "name": "ipython",
    "version": 2
   },
   "file_extension": ".py",
   "mimetype": "text/x-python",
   "name": "python",
   "nbconvert_exporter": "python",
   "pygments_lexer": "ipython2",
   "version": "2.7.12"
  }
 },
 "nbformat": 4,
 "nbformat_minor": 1
}
